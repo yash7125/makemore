{
  "nbformat": 4,
  "nbformat_minor": 0,
  "metadata": {
    "colab": {
      "provenance": [],
      "authorship_tag": "ABX9TyMMNiCBi17WbpLK44Hvthv3",
      "include_colab_link": true
    },
    "kernelspec": {
      "name": "python3",
      "display_name": "Python 3"
    },
    "language_info": {
      "name": "python"
    }
  },
  "cells": [
    {
      "cell_type": "markdown",
      "metadata": {
        "id": "view-in-github",
        "colab_type": "text"
      },
      "source": [
        "<a href=\"https://colab.research.google.com/github/yash7125/makemore/blob/main/make_GPT.ipynb\" target=\"_parent\"><img src=\"https://colab.research.google.com/assets/colab-badge.svg\" alt=\"Open In Colab\"/></a>"
      ]
    },
    {
      "cell_type": "markdown",
      "source": [],
      "metadata": {
        "id": "B500MVCergBa"
      }
    },
    {
      "cell_type": "code",
      "execution_count": 40,
      "metadata": {
        "colab": {
          "base_uri": "https://localhost:8080/"
        },
        "id": "5MZlYtafMOKY",
        "outputId": "4f34e17b-e616-4d52-bed2-3357286b6617"
      },
      "outputs": [
        {
          "output_type": "stream",
          "name": "stdout",
          "text": [
            "--2025-07-20 12:51:44--  https://raw.githubusercontent.com/karpathy/char-rnn/master/data/tinyshakespeare/input.txt\n",
            "Resolving raw.githubusercontent.com (raw.githubusercontent.com)... 185.199.108.133, 185.199.109.133, 185.199.110.133, ...\n",
            "Connecting to raw.githubusercontent.com (raw.githubusercontent.com)|185.199.108.133|:443... connected.\n",
            "HTTP request sent, awaiting response... 200 OK\n",
            "Length: 1115394 (1.1M) [text/plain]\n",
            "Saving to: ‘input.txt.2’\n",
            "\n",
            "\rinput.txt.2           0%[                    ]       0  --.-KB/s               \rinput.txt.2         100%[===================>]   1.06M  --.-KB/s    in 0.06s   \n",
            "\n",
            "2025-07-20 12:51:44 (16.6 MB/s) - ‘input.txt.2’ saved [1115394/1115394]\n",
            "\n"
          ]
        }
      ],
      "source": [
        "!wget https://raw.githubusercontent.com/karpathy/char-rnn/master/data/tinyshakespeare/input.txt"
      ]
    },
    {
      "cell_type": "code",
      "source": [
        "with open('input.txt', 'r', encoding='utf-8') as p:\n",
        "    text = p.read()"
      ],
      "metadata": {
        "id": "QT6tioSOMsiV"
      },
      "execution_count": 41,
      "outputs": []
    },
    {
      "cell_type": "code",
      "source": [
        "len(text)"
      ],
      "metadata": {
        "colab": {
          "base_uri": "https://localhost:8080/"
        },
        "id": "vGg_3htmOJTM",
        "outputId": "73d23eca-88f6-4e50-a2f9-7e7fe71abfe0"
      },
      "execution_count": 42,
      "outputs": [
        {
          "output_type": "execute_result",
          "data": {
            "text/plain": [
              "1115394"
            ]
          },
          "metadata": {},
          "execution_count": 42
        }
      ]
    },
    {
      "cell_type": "code",
      "source": [
        "print(text[:1000])"
      ],
      "metadata": {
        "colab": {
          "base_uri": "https://localhost:8080/"
        },
        "id": "jnICzUnwOleL",
        "outputId": "0fa67ce1-ea99-41d9-ba5d-fef35aa98374"
      },
      "execution_count": 43,
      "outputs": [
        {
          "output_type": "stream",
          "name": "stdout",
          "text": [
            "First Citizen:\n",
            "Before we proceed any further, hear me speak.\n",
            "\n",
            "All:\n",
            "Speak, speak.\n",
            "\n",
            "First Citizen:\n",
            "You are all resolved rather to die than to famish?\n",
            "\n",
            "All:\n",
            "Resolved. resolved.\n",
            "\n",
            "First Citizen:\n",
            "First, you know Caius Marcius is chief enemy to the people.\n",
            "\n",
            "All:\n",
            "We know't, we know't.\n",
            "\n",
            "First Citizen:\n",
            "Let us kill him, and we'll have corn at our own price.\n",
            "Is't a verdict?\n",
            "\n",
            "All:\n",
            "No more talking on't; let it be done: away, away!\n",
            "\n",
            "Second Citizen:\n",
            "One word, good citizens.\n",
            "\n",
            "First Citizen:\n",
            "We are accounted poor citizens, the patricians good.\n",
            "What authority surfeits on would relieve us: if they\n",
            "would yield us but the superfluity, while it were\n",
            "wholesome, we might guess they relieved us humanely;\n",
            "but they think we are too dear: the leanness that\n",
            "afflicts us, the object of our misery, is as an\n",
            "inventory to particularise their abundance; our\n",
            "sufferance is a gain to them Let us revenge this with\n",
            "our pikes, ere we become rakes: for the gods know I\n",
            "speak this in hunger for bread, not in thirst for revenge.\n",
            "\n",
            "\n"
          ]
        }
      ]
    },
    {
      "cell_type": "code",
      "source": [
        "# tokenise your data\n",
        "chars = sorted(list(set(text)))\n",
        "print(len(chars))\n",
        "\n",
        "str = \"\"\n",
        "for i in range(len(chars)):\n",
        "  str += chars[i]\n",
        "\n",
        "print(str)\n",
        "\n",
        "vocab_size = 65\n"
      ],
      "metadata": {
        "colab": {
          "base_uri": "https://localhost:8080/"
        },
        "id": "wwJlXglUO8Yu",
        "outputId": "cd1bc63b-76a8-480e-b9f3-70cdf24c4e1f"
      },
      "execution_count": 44,
      "outputs": [
        {
          "output_type": "stream",
          "name": "stdout",
          "text": [
            "65\n",
            "\n",
            " !$&',-.3:;?ABCDEFGHIJKLMNOPQRSTUVWXYZabcdefghijklmnopqrstuvwxyz\n"
          ]
        }
      ]
    },
    {
      "cell_type": "code",
      "source": [
        "# do encoding and decoding\n",
        "stoi = {ch:i for i, ch in enumerate(chars)}\n",
        "itos = {i:ch for i, ch in enumerate(chars)}\n",
        "\n",
        "def encode(s):\n",
        "  enc = []\n",
        "  for i in range(len(s)):\n",
        "    enc.append(stoi[s[i]])\n",
        "  return enc\n",
        "\n",
        "def decode(l):\n",
        "  str = \"\"\n",
        "  for i in range(len(l)):\n",
        "    str += itos[l[i]]\n",
        "  return str\n",
        "\n",
        "encoder = encode(\"Yash Kumar\")\n",
        "decoder = decode(encoder)\n",
        "\n",
        "print(encoder, \" \", decoder)"
      ],
      "metadata": {
        "colab": {
          "base_uri": "https://localhost:8080/"
        },
        "id": "Ndd6_cFtP46I",
        "outputId": "9db59151-9062-4800-a5de-a77d77da831c"
      },
      "execution_count": 45,
      "outputs": [
        {
          "output_type": "stream",
          "name": "stdout",
          "text": [
            "[37, 39, 57, 46, 1, 23, 59, 51, 39, 56]   Yash Kumar\n"
          ]
        }
      ]
    },
    {
      "cell_type": "code",
      "source": [
        "# now encode the entire data and store it in tensor\n",
        "import torch\n",
        "data = torch.tensor(encode(text), dtype=torch.long)\n",
        "print(data.shape)\n",
        "print(data[:1000])"
      ],
      "metadata": {
        "colab": {
          "base_uri": "https://localhost:8080/"
        },
        "id": "-NyZExI6Twkb",
        "outputId": "e20801dd-29f4-492f-caa6-e8a0cd644ef7"
      },
      "execution_count": 8,
      "outputs": [
        {
          "output_type": "stream",
          "name": "stdout",
          "text": [
            "torch.Size([1115394])\n",
            "tensor([18, 47, 56, 57, 58,  1, 15, 47, 58, 47, 64, 43, 52, 10,  0, 14, 43, 44,\n",
            "        53, 56, 43,  1, 61, 43,  1, 54, 56, 53, 41, 43, 43, 42,  1, 39, 52, 63,\n",
            "         1, 44, 59, 56, 58, 46, 43, 56,  6,  1, 46, 43, 39, 56,  1, 51, 43,  1,\n",
            "        57, 54, 43, 39, 49,  8,  0,  0, 13, 50, 50, 10,  0, 31, 54, 43, 39, 49,\n",
            "         6,  1, 57, 54, 43, 39, 49,  8,  0,  0, 18, 47, 56, 57, 58,  1, 15, 47,\n",
            "        58, 47, 64, 43, 52, 10,  0, 37, 53, 59,  1, 39, 56, 43,  1, 39, 50, 50,\n",
            "         1, 56, 43, 57, 53, 50, 60, 43, 42,  1, 56, 39, 58, 46, 43, 56,  1, 58,\n",
            "        53,  1, 42, 47, 43,  1, 58, 46, 39, 52,  1, 58, 53,  1, 44, 39, 51, 47,\n",
            "        57, 46, 12,  0,  0, 13, 50, 50, 10,  0, 30, 43, 57, 53, 50, 60, 43, 42,\n",
            "         8,  1, 56, 43, 57, 53, 50, 60, 43, 42,  8,  0,  0, 18, 47, 56, 57, 58,\n",
            "         1, 15, 47, 58, 47, 64, 43, 52, 10,  0, 18, 47, 56, 57, 58,  6,  1, 63,\n",
            "        53, 59,  1, 49, 52, 53, 61,  1, 15, 39, 47, 59, 57,  1, 25, 39, 56, 41,\n",
            "        47, 59, 57,  1, 47, 57,  1, 41, 46, 47, 43, 44,  1, 43, 52, 43, 51, 63,\n",
            "         1, 58, 53,  1, 58, 46, 43,  1, 54, 43, 53, 54, 50, 43,  8,  0,  0, 13,\n",
            "        50, 50, 10,  0, 35, 43,  1, 49, 52, 53, 61,  5, 58,  6,  1, 61, 43,  1,\n",
            "        49, 52, 53, 61,  5, 58,  8,  0,  0, 18, 47, 56, 57, 58,  1, 15, 47, 58,\n",
            "        47, 64, 43, 52, 10,  0, 24, 43, 58,  1, 59, 57,  1, 49, 47, 50, 50,  1,\n",
            "        46, 47, 51,  6,  1, 39, 52, 42,  1, 61, 43,  5, 50, 50,  1, 46, 39, 60,\n",
            "        43,  1, 41, 53, 56, 52,  1, 39, 58,  1, 53, 59, 56,  1, 53, 61, 52,  1,\n",
            "        54, 56, 47, 41, 43,  8,  0, 21, 57,  5, 58,  1, 39,  1, 60, 43, 56, 42,\n",
            "        47, 41, 58, 12,  0,  0, 13, 50, 50, 10,  0, 26, 53,  1, 51, 53, 56, 43,\n",
            "         1, 58, 39, 50, 49, 47, 52, 45,  1, 53, 52,  5, 58, 11,  1, 50, 43, 58,\n",
            "         1, 47, 58,  1, 40, 43,  1, 42, 53, 52, 43, 10,  1, 39, 61, 39, 63,  6,\n",
            "         1, 39, 61, 39, 63,  2,  0,  0, 31, 43, 41, 53, 52, 42,  1, 15, 47, 58,\n",
            "        47, 64, 43, 52, 10,  0, 27, 52, 43,  1, 61, 53, 56, 42,  6,  1, 45, 53,\n",
            "        53, 42,  1, 41, 47, 58, 47, 64, 43, 52, 57,  8,  0,  0, 18, 47, 56, 57,\n",
            "        58,  1, 15, 47, 58, 47, 64, 43, 52, 10,  0, 35, 43,  1, 39, 56, 43,  1,\n",
            "        39, 41, 41, 53, 59, 52, 58, 43, 42,  1, 54, 53, 53, 56,  1, 41, 47, 58,\n",
            "        47, 64, 43, 52, 57,  6,  1, 58, 46, 43,  1, 54, 39, 58, 56, 47, 41, 47,\n",
            "        39, 52, 57,  1, 45, 53, 53, 42,  8,  0, 35, 46, 39, 58,  1, 39, 59, 58,\n",
            "        46, 53, 56, 47, 58, 63,  1, 57, 59, 56, 44, 43, 47, 58, 57,  1, 53, 52,\n",
            "         1, 61, 53, 59, 50, 42,  1, 56, 43, 50, 47, 43, 60, 43,  1, 59, 57, 10,\n",
            "         1, 47, 44,  1, 58, 46, 43, 63,  0, 61, 53, 59, 50, 42,  1, 63, 47, 43,\n",
            "        50, 42,  1, 59, 57,  1, 40, 59, 58,  1, 58, 46, 43,  1, 57, 59, 54, 43,\n",
            "        56, 44, 50, 59, 47, 58, 63,  6,  1, 61, 46, 47, 50, 43,  1, 47, 58,  1,\n",
            "        61, 43, 56, 43,  0, 61, 46, 53, 50, 43, 57, 53, 51, 43,  6,  1, 61, 43,\n",
            "         1, 51, 47, 45, 46, 58,  1, 45, 59, 43, 57, 57,  1, 58, 46, 43, 63,  1,\n",
            "        56, 43, 50, 47, 43, 60, 43, 42,  1, 59, 57,  1, 46, 59, 51, 39, 52, 43,\n",
            "        50, 63, 11,  0, 40, 59, 58,  1, 58, 46, 43, 63,  1, 58, 46, 47, 52, 49,\n",
            "         1, 61, 43,  1, 39, 56, 43,  1, 58, 53, 53,  1, 42, 43, 39, 56, 10,  1,\n",
            "        58, 46, 43,  1, 50, 43, 39, 52, 52, 43, 57, 57,  1, 58, 46, 39, 58,  0,\n",
            "        39, 44, 44, 50, 47, 41, 58, 57,  1, 59, 57,  6,  1, 58, 46, 43,  1, 53,\n",
            "        40, 48, 43, 41, 58,  1, 53, 44,  1, 53, 59, 56,  1, 51, 47, 57, 43, 56,\n",
            "        63,  6,  1, 47, 57,  1, 39, 57,  1, 39, 52,  0, 47, 52, 60, 43, 52, 58,\n",
            "        53, 56, 63,  1, 58, 53,  1, 54, 39, 56, 58, 47, 41, 59, 50, 39, 56, 47,\n",
            "        57, 43,  1, 58, 46, 43, 47, 56,  1, 39, 40, 59, 52, 42, 39, 52, 41, 43,\n",
            "        11,  1, 53, 59, 56,  0, 57, 59, 44, 44, 43, 56, 39, 52, 41, 43,  1, 47,\n",
            "        57,  1, 39,  1, 45, 39, 47, 52,  1, 58, 53,  1, 58, 46, 43, 51,  1, 24,\n",
            "        43, 58,  1, 59, 57,  1, 56, 43, 60, 43, 52, 45, 43,  1, 58, 46, 47, 57,\n",
            "         1, 61, 47, 58, 46,  0, 53, 59, 56,  1, 54, 47, 49, 43, 57,  6,  1, 43,\n",
            "        56, 43,  1, 61, 43,  1, 40, 43, 41, 53, 51, 43,  1, 56, 39, 49, 43, 57,\n",
            "        10,  1, 44, 53, 56,  1, 58, 46, 43,  1, 45, 53, 42, 57,  1, 49, 52, 53,\n",
            "        61,  1, 21,  0, 57, 54, 43, 39, 49,  1, 58, 46, 47, 57,  1, 47, 52,  1,\n",
            "        46, 59, 52, 45, 43, 56,  1, 44, 53, 56,  1, 40, 56, 43, 39, 42,  6,  1,\n",
            "        52, 53, 58,  1, 47, 52,  1, 58, 46, 47, 56, 57, 58,  1, 44, 53, 56,  1,\n",
            "        56, 43, 60, 43, 52, 45, 43,  8,  0,  0])\n"
          ]
        }
      ]
    },
    {
      "cell_type": "code",
      "source": [
        "# create train and val set\n",
        "length = int(0.9*len(data))\n",
        "# print(length)\n",
        "train_set = data[:length]\n",
        "val_set = data[length:]"
      ],
      "metadata": {
        "id": "raKmoQDRWdq2"
      },
      "execution_count": 46,
      "outputs": []
    },
    {
      "cell_type": "code",
      "source": [
        "block_size = 8\n",
        "train_set[:block_size + 1]"
      ],
      "metadata": {
        "colab": {
          "base_uri": "https://localhost:8080/"
        },
        "id": "LomwSPaFeF8Y",
        "outputId": "1bc6ebb7-fb44-483e-fccf-eb5460fbe1ea"
      },
      "execution_count": 47,
      "outputs": [
        {
          "output_type": "execute_result",
          "data": {
            "text/plain": [
              "tensor([18, 47, 56, 57, 58,  1, 15, 47, 58])"
            ]
          },
          "metadata": {},
          "execution_count": 47
        }
      ]
    },
    {
      "cell_type": "code",
      "source": [
        "Xtr = train_set[:block_size]\n",
        "Ytr = train_set[1 : block_size + 1]\n",
        "\n",
        "for i in range(block_size):\n",
        "  x = Xtr[:i + 1]\n",
        "  y = Ytr[i]\n",
        "  print(f\"we have the context window {x} --> target --> {y}\")\n"
      ],
      "metadata": {
        "colab": {
          "base_uri": "https://localhost:8080/"
        },
        "id": "PwChuFYRfDfe",
        "outputId": "6b6ae05d-fbe4-4559-c150-57cd64318ef1"
      },
      "execution_count": 48,
      "outputs": [
        {
          "output_type": "stream",
          "name": "stdout",
          "text": [
            "we have the context window tensor([18]) --> target --> 47\n",
            "we have the context window tensor([18, 47]) --> target --> 56\n",
            "we have the context window tensor([18, 47, 56]) --> target --> 57\n",
            "we have the context window tensor([18, 47, 56, 57]) --> target --> 58\n",
            "we have the context window tensor([18, 47, 56, 57, 58]) --> target --> 1\n",
            "we have the context window tensor([18, 47, 56, 57, 58,  1]) --> target --> 15\n",
            "we have the context window tensor([18, 47, 56, 57, 58,  1, 15]) --> target --> 47\n",
            "we have the context window tensor([18, 47, 56, 57, 58,  1, 15, 47]) --> target --> 58\n"
          ]
        }
      ]
    },
    {
      "cell_type": "code",
      "source": [
        "torch.manual_seed(1337)\n",
        "batch_size = 4\n",
        "block_size = 8\n",
        "\n",
        "device = 'cuda' if torch.cuda.is_available() else 'cpu'\n",
        "\n",
        "def get_batch(split):\n",
        "  data = train_set if split == 'train' else val_set\n",
        "  idx = torch.randint(len(data) - block_size, (batch_size,))\n",
        "  x = torch.stack([data[i : i + block_size] for i in idx])\n",
        "  y = torch.stack([data[i + 1 : i + block_size + 1] for i in idx])\n",
        "  x, y = x.to(device), y.to(device)\n",
        "  return x, y\n",
        "\n",
        "Xb, Yb = get_batch('train')\n",
        "print(Xb.shape)\n",
        "print(Xb)\n",
        "\n",
        "print(Yb.shape)\n",
        "print(Yb)\n",
        "\n",
        "print('\\n')\n",
        "\n",
        "for i in range(batch_size):\n",
        "  for j in range(block_size):\n",
        "    p = Xb[i, :j + 1]\n",
        "    q = Yb[i, j]\n",
        "    print(f\"we have the context window {p} --> target --> {q}\")\n",
        "\n"
      ],
      "metadata": {
        "colab": {
          "base_uri": "https://localhost:8080/"
        },
        "id": "o4wnetM5gWa_",
        "outputId": "e20a1c7f-2da7-4875-b6c3-ffb186fb4b6c"
      },
      "execution_count": 49,
      "outputs": [
        {
          "output_type": "stream",
          "name": "stdout",
          "text": [
            "torch.Size([4, 8])\n",
            "tensor([[24, 43, 58,  5, 57,  1, 46, 43],\n",
            "        [44, 53, 56,  1, 58, 46, 39, 58],\n",
            "        [52, 58,  1, 58, 46, 39, 58,  1],\n",
            "        [25, 17, 27, 10,  0, 21,  1, 54]])\n",
            "torch.Size([4, 8])\n",
            "tensor([[43, 58,  5, 57,  1, 46, 43, 39],\n",
            "        [53, 56,  1, 58, 46, 39, 58,  1],\n",
            "        [58,  1, 58, 46, 39, 58,  1, 46],\n",
            "        [17, 27, 10,  0, 21,  1, 54, 39]])\n",
            "\n",
            "\n",
            "we have the context window tensor([24]) --> target --> 43\n",
            "we have the context window tensor([24, 43]) --> target --> 58\n",
            "we have the context window tensor([24, 43, 58]) --> target --> 5\n",
            "we have the context window tensor([24, 43, 58,  5]) --> target --> 57\n",
            "we have the context window tensor([24, 43, 58,  5, 57]) --> target --> 1\n",
            "we have the context window tensor([24, 43, 58,  5, 57,  1]) --> target --> 46\n",
            "we have the context window tensor([24, 43, 58,  5, 57,  1, 46]) --> target --> 43\n",
            "we have the context window tensor([24, 43, 58,  5, 57,  1, 46, 43]) --> target --> 39\n",
            "we have the context window tensor([44]) --> target --> 53\n",
            "we have the context window tensor([44, 53]) --> target --> 56\n",
            "we have the context window tensor([44, 53, 56]) --> target --> 1\n",
            "we have the context window tensor([44, 53, 56,  1]) --> target --> 58\n",
            "we have the context window tensor([44, 53, 56,  1, 58]) --> target --> 46\n",
            "we have the context window tensor([44, 53, 56,  1, 58, 46]) --> target --> 39\n",
            "we have the context window tensor([44, 53, 56,  1, 58, 46, 39]) --> target --> 58\n",
            "we have the context window tensor([44, 53, 56,  1, 58, 46, 39, 58]) --> target --> 1\n",
            "we have the context window tensor([52]) --> target --> 58\n",
            "we have the context window tensor([52, 58]) --> target --> 1\n",
            "we have the context window tensor([52, 58,  1]) --> target --> 58\n",
            "we have the context window tensor([52, 58,  1, 58]) --> target --> 46\n",
            "we have the context window tensor([52, 58,  1, 58, 46]) --> target --> 39\n",
            "we have the context window tensor([52, 58,  1, 58, 46, 39]) --> target --> 58\n",
            "we have the context window tensor([52, 58,  1, 58, 46, 39, 58]) --> target --> 1\n",
            "we have the context window tensor([52, 58,  1, 58, 46, 39, 58,  1]) --> target --> 46\n",
            "we have the context window tensor([25]) --> target --> 17\n",
            "we have the context window tensor([25, 17]) --> target --> 27\n",
            "we have the context window tensor([25, 17, 27]) --> target --> 10\n",
            "we have the context window tensor([25, 17, 27, 10]) --> target --> 0\n",
            "we have the context window tensor([25, 17, 27, 10,  0]) --> target --> 21\n",
            "we have the context window tensor([25, 17, 27, 10,  0, 21]) --> target --> 1\n",
            "we have the context window tensor([25, 17, 27, 10,  0, 21,  1]) --> target --> 54\n",
            "we have the context window tensor([25, 17, 27, 10,  0, 21,  1, 54]) --> target --> 39\n"
          ]
        }
      ]
    },
    {
      "cell_type": "code",
      "source": [
        "# # bigram model\n",
        "# import torch\n",
        "# import torch.nn as nn\n",
        "# from torch.nn import functional as F\n",
        "\n",
        "# class BigramLanguageModel(nn.Module):\n",
        "\n",
        "#   def __init__(self, vocab_size):\n",
        "#     super().__init__()\n",
        "#     self.token_embedding_table = torch.nn.Embedding(vocab_size, vocab_size)\n",
        "\n",
        "#   def forward(self, idx, targets=None):\n",
        "#     # idx --> [B, T], Embedding_table --> [65, 65]\n",
        "#     logits = self.token_embedding_table(idx)\n",
        "\n",
        "#     if targets == None:\n",
        "#       loss = None\n",
        "#     else:\n",
        "#       # logits --> [B, T, 65] --> [B, T, C]\n",
        "#       # reshaping to solve cross entropy\n",
        "#       B, T, C = logits.shape\n",
        "#       logits = logits.view(B*T, C)\n",
        "#       targets = targets.view(B*T)\n",
        "#       loss = torch.nn.functional.cross_entropy(logits, targets)\n",
        "\n",
        "#     return logits, loss\n",
        "\n",
        "#   def generate(self, idx, max_new_tokens):\n",
        "\n",
        "#     for _ in range(max_new_tokens):\n",
        "\n",
        "#       logits, loss = self(idx)\n",
        "#       # logits --> [32, 65] --> [B*T, C]\n",
        "#       # print(\"logits shape before = \", logits.shape)\n",
        "#       logits = logits[:, -1, :]\n",
        "#       # logits --> [4, 65] --> [B, C]\n",
        "#       # print(\"logits shape after = \", logits.shape)\n",
        "\n",
        "#       probs = F.softmax(logits, dim=-1)\n",
        "#       # probs --> [B, C]\n",
        "#       idx_next = torch.multinomial(probs, num_samples=1)\n",
        "#       # idx_next --> [B, 1]\n",
        "#       idx = torch.cat((idx, idx_next), dim=1)\n",
        "#       # idx --> [B, T] --> [B, T+1]\n",
        "#     return idx\n",
        "\n",
        "\n",
        "# ob = BigramLanguageModel(vocab_size)\n",
        "# logits, loss = ob(Xb, Yb)\n",
        "# print(logits.shape, \" \", \"loss =\", loss)\n",
        "# # print(logits[:5])\n",
        "\n",
        "# print(decode(ob.generate(idx = torch.zeros((1, 1), dtype=torch.long), max_new_tokens=100)[0].tolist()))\n",
        "\n",
        "\n"
      ],
      "metadata": {
        "id": "jiYb0fMpkOKG"
      },
      "execution_count": 50,
      "outputs": []
    },
    {
      "cell_type": "code",
      "source": [
        "# optimizer = torch.optim.AdamW(ob.parameters(), lr=1e-3)"
      ],
      "metadata": {
        "id": "oB_Mc6YaQMz4"
      },
      "execution_count": 51,
      "outputs": []
    },
    {
      "cell_type": "code",
      "source": [
        "# # do the training of bigram model\n",
        "\n",
        "# for i in range(20000):\n",
        "#   # batch declaration\n",
        "#   xb, yb = get_batch('train')\n",
        "#   # forward pass\n",
        "#   logits, loss = ob(xb, yb)\n",
        "#   # print(i, \"->\", loss)\n",
        "#   # setting gradients to None\n",
        "#   optimizer.zero_grad(set_to_none=True)\n",
        "#   # back prop\n",
        "#   loss.backward()\n",
        "#   # parameters update\n",
        "#   optimizer.step()\n",
        "\n",
        "# print(loss.item())"
      ],
      "metadata": {
        "id": "B9X6q8Sc2Rgl"
      },
      "execution_count": 52,
      "outputs": []
    },
    {
      "cell_type": "code",
      "source": [
        "# print(decode(ob.generate(idx = torch.zeros((1, 1), dtype=torch.long), max_new_tokens=500)[0].tolist()))"
      ],
      "metadata": {
        "id": "fERQ_83F38_u"
      },
      "execution_count": 53,
      "outputs": []
    },
    {
      "cell_type": "code",
      "source": [
        "# # now comes the self-attention\n",
        "# torch.manual_seed(1337)\n",
        "# B = 4\n",
        "# T = 8\n",
        "# C = 2\n",
        "# x = torch.randn(B, T, C)"
      ],
      "metadata": {
        "id": "25oczMz84bgc"
      },
      "execution_count": 54,
      "outputs": []
    },
    {
      "cell_type": "code",
      "source": [
        "# #version-1\n",
        "# xbow = torch.zeros((B, T, C))\n",
        "# for b in range(B):\n",
        "#   for t in range(T):\n",
        "#     x_prev = x[b, :t + 1] #(t, C)\n",
        "#     # print(x_prev.shape)\n",
        "#     xbow[b, t] = torch.mean(x_prev, 0)\n"
      ],
      "metadata": {
        "id": "OWPsul9Canu3"
      },
      "execution_count": 55,
      "outputs": []
    },
    {
      "cell_type": "code",
      "source": [
        "# xbow.shape\n",
        "# xbow"
      ],
      "metadata": {
        "id": "bKk-CMRAbQYB"
      },
      "execution_count": 56,
      "outputs": []
    },
    {
      "cell_type": "code",
      "source": [
        "# # version-2\n",
        "# wei = torch.tril(torch.ones(T, T))\n",
        "# wei = wei / wei.sum(1, keepdim=True)\n",
        "# wei\n",
        "# xbow2 = wei @ x #(T,T) multiply with (B,T,C) --> (B,T,T) @ (B,T,C) --> (B,T,C)\n",
        "# torch.allclose(xbow, xbow2)\n",
        "# # xbow2"
      ],
      "metadata": {
        "id": "CUeTKSALb0BG"
      },
      "execution_count": 57,
      "outputs": []
    },
    {
      "cell_type": "code",
      "source": [
        "# # version-3 using softmax\n",
        "# tril = torch.tril(torch.ones(T, T))\n",
        "# wei = torch.zeros((T, T))\n",
        "# wei = wei.masked_fill(tril==0, float('-inf'))\n",
        "# wei = F.softmax(wei, dim=-1)\n",
        "# xbow3 = wei @ x\n",
        "# torch.allclose(xbow, xbow3)"
      ],
      "metadata": {
        "id": "rt6E37Fwe0uc"
      },
      "execution_count": 58,
      "outputs": []
    },
    {
      "cell_type": "code",
      "source": [
        "# xbow3"
      ],
      "metadata": {
        "id": "KUL-yRuomiaS"
      },
      "execution_count": 59,
      "outputs": []
    },
    {
      "cell_type": "code",
      "source": [
        "# # now starting to implement self-attention\n",
        "# # version-4\n",
        "# torch.manual_seed(1337)\n",
        "# B, T, C = 4, 8, 32\n",
        "# x = torch.randn(B, T, C)\n",
        "\n",
        "# # attention is communication mechanism\n",
        "# head_size = 16\n",
        "\n",
        "# query = nn.Linear(C, head_size, bias=False) #(C, 16) --> (32, 16)\n",
        "# key = nn.Linear(C, head_size, bias=False)   #(C, 16) --> (32, 16)\n",
        "# value = nn.Linear(C, head_size, bias=False) #(C, 16) --> (32, 16)\n",
        "\n",
        "# q = query(x) #(B, T, 16) --> (4, 8, 16)\n",
        "# k = key(x)   #(B, T, 16) --> (4, 8, 16)\n",
        "# v = value(x) #(B, T, 16) --> (4, 8, 16)\n",
        "\n",
        "# wei = q @ k.transpose(-2, -1) #(B, T, T) --> (4, 8, 8)\n",
        "# tril = torch.tril(torch.ones(T, T))\n",
        "# wei = wei.masked_fill(tril==0, float('-inf')) #(current value should not interact with future predictions)\n",
        "# wei = F.softmax(wei, dim=-1)\n",
        "# out = wei @ v\n",
        "# out.shape"
      ],
      "metadata": {
        "id": "DobrqXpKtME0"
      },
      "execution_count": 60,
      "outputs": []
    },
    {
      "cell_type": "code",
      "source": [
        "# out[2], wei[2]"
      ],
      "metadata": {
        "id": "pHsJt_Yozbl2"
      },
      "execution_count": 61,
      "outputs": []
    },
    {
      "cell_type": "code",
      "source": [
        "# more elaborate code from the beginning"
      ],
      "metadata": {
        "id": "y956Q2VQ0-zG"
      },
      "execution_count": 62,
      "outputs": []
    },
    {
      "cell_type": "code",
      "source": [
        "import torch\n",
        "import torch.nn as nn\n",
        "from torch.nn import functional as F\n",
        "\n",
        "# hyperparameters\n",
        "vocab_size = 65\n",
        "n_embd = 200\n",
        "block_size = 64 #(maximum context window length)\n",
        "batch_size = 16 #(how many independent sequences will run parallel?)\n",
        "# head_size = 16\n",
        "eval_iters = 500\n",
        "n_layers = 6\n",
        "num_of_heads = 5\n",
        "max_iters = 5000\n",
        "eval_interval = 100\n",
        "learning_rate = 9e-4\n",
        "dropout = 0.2\n",
        "\n",
        "torch.manual_seed(1337)\n",
        "\n",
        "@torch.no_grad()\n",
        "def estimate_loss():\n",
        "    out = {}\n",
        "    model.eval()\n",
        "    for split in ['train', 'val']:\n",
        "        losses = torch.zeros(eval_iters)\n",
        "        for k in range(eval_iters):\n",
        "            X, Y = get_batch(split)\n",
        "            logits, loss = model(X, Y)\n",
        "            losses[k] = loss.item()\n",
        "        out[split] = losses.mean()\n",
        "    model.train()\n",
        "    return out\n",
        "\n",
        "class Head(nn.Module):\n",
        "\n",
        "  def __init__(self, head_size):\n",
        "    # attention is communication mechanism\n",
        "    super().__init__()\n",
        "    self.query = nn.Linear(n_embd, head_size, bias=False) #(n_embd, head_size) --> (64, 16)\n",
        "    self.key = nn.Linear(n_embd, head_size, bias=False)   #(n_embd, head_size) --> (64, 16)\n",
        "    self.value = nn.Linear(n_embd, head_size, bias=False) #(n_embd, head_size) --> (64, 16)\n",
        "    self.register_buffer('tril', torch.tril(torch.ones(block_size, block_size)))\n",
        "\n",
        "    self.dropout = nn.Dropout(dropout)\n",
        "\n",
        "  def forward(self, x):\n",
        "\n",
        "    B, T, C = x.shape\n",
        "\n",
        "    q = self.query(x) #(B, T, 16) --> (16, T, 16)\n",
        "    k = self.key(x)   #(B, T, 16) --> (16, T, 16)\n",
        "    v = self.value(x) #(B, T, 16) --> (16, T, 16)\n",
        "\n",
        "    wei = q @ k.transpose(-2, -1) * (C ** -0.5) #(B, T, T)\n",
        "    wei = wei.masked_fill(self.tril[:T, :T]==0, float('-inf')) #(current value should not interact with future predictions)\n",
        "    wei = F.softmax(wei, dim=-1)\n",
        "    wei = self.dropout(wei)\n",
        "    out = wei @ v\n",
        "\n",
        "    return out\n",
        "\n",
        "class MultiHeadAttention(nn.Module):\n",
        "\n",
        "  def __init__(self, num_heads, head_size):\n",
        "\n",
        "    super().__init__()\n",
        "\n",
        "    self.heads = nn.ModuleList([Head(head_size) for _ in range(num_heads)])\n",
        "    self.proj = nn.Linear(n_embd, n_embd)\n",
        "\n",
        "    self.dropout = nn.Dropout(dropout)\n",
        "\n",
        "  def forward(self, x):\n",
        "\n",
        "    out = torch.cat([h(x) for h in self.heads], dim=-1)\n",
        "    out = self.proj(out)\n",
        "    out = self.dropout(out)\n",
        "\n",
        "    return out\n",
        "\n",
        "class FeedForward(nn.Module):\n",
        "\n",
        "  def __init__(self, n_embd):\n",
        "\n",
        "    super().__init__()\n",
        "\n",
        "    self.net = nn.Sequential(\n",
        "        nn.Linear(n_embd, 4 * n_embd),\n",
        "        nn.ReLU(),\n",
        "        nn.Linear(4 * n_embd, n_embd),\n",
        "\n",
        "        nn.Dropout(dropout),\n",
        "    )\n",
        "\n",
        "  def forward(self, x):\n",
        "    return self.net(x)\n",
        "\n",
        "# class LayerNorm1d: # (used to be BatchNorm1d)\n",
        "\n",
        "#   def __init__(self, dim, eps=1e-5, momentum=0.1):\n",
        "#     self.eps = eps\n",
        "#     self.gamma = torch.ones(dim)\n",
        "#     self.beta = torch.zeros(dim)\n",
        "\n",
        "#   def __call__(self, x):\n",
        "#     # calculate the forward pass\n",
        "#     xmean = x.mean(1, keepdim=True) # batch mean\n",
        "#     xvar = x.var(1, keepdim=True) # batch variance\n",
        "#     xhat = (x - xmean) / torch.sqrt(xvar + self.eps) # normalize to unit variance\n",
        "#     self.out = self.gamma * xhat + self.beta\n",
        "#     return self.out\n",
        "\n",
        "#   def parameters(self):\n",
        "#     return [self.gamma, self.beta]\n",
        "\n",
        "\n",
        "class Block(nn.Module):\n",
        "  # Transformer block --> communication followed by computation\n",
        "\n",
        "  def __init__(self, n_embd, n_heads):\n",
        "\n",
        "    super().__init__()\n",
        "\n",
        "    head_size = n_embd // n_heads\n",
        "\n",
        "    self.mha = MultiHeadAttention(n_heads, head_size)\n",
        "    self.ffn = FeedForward(n_embd)\n",
        "    self.ln1 = nn.LayerNorm(n_embd)\n",
        "    self.ln2 = nn.LayerNorm(n_embd)\n",
        "\n",
        "  def forward(self, x):\n",
        "\n",
        "    x = x + self.mha(self.ln1(x))\n",
        "    x = x + self.ffn(self.ln2(x))\n",
        "\n",
        "    return x\n",
        "\n",
        "\n",
        "class BigramLanguageModel(nn.Module):\n",
        "\n",
        "  def __init__(self):\n",
        "\n",
        "    super().__init__()\n",
        "\n",
        "    self.token_embedding_table = torch.nn.Embedding(vocab_size, n_embd)    #(65, 64)\n",
        "    self.position_embedding_table = torch.nn.Embedding(block_size, n_embd) #(32, 64)\n",
        "    self.blocks = nn.Sequential(\n",
        "        *[Block(n_embd, n_heads=num_of_heads) for _ in range(n_layers)]\n",
        "    )\n",
        "    self.ln_f = nn.LayerNorm(n_embd)\n",
        "    self.lm_head = nn.Linear(n_embd, vocab_size)\n",
        "\n",
        "  def forward(self, idx, targets=None):\n",
        "    # idx --> [B, T], Embedding_table --> [65, 64]\n",
        "    B, T = idx.shape\n",
        "\n",
        "    tok_emb = self.token_embedding_table(idx)\n",
        "    pos_emb = self.position_embedding_table(torch.arange(T, device=device))\n",
        "\n",
        "    x = tok_emb + pos_emb #(B, T, n_embd)\n",
        "    x = self.blocks(x)\n",
        "    x = self.ln_f(x)\n",
        "    logits = self.lm_head(x)   #(B, T, vocab_size)\n",
        "\n",
        "    if targets == None:\n",
        "      loss = None\n",
        "    else:\n",
        "      # logits --> [B, T, 65] --> [B, T, C]\n",
        "      # reshaping to solve cross entropy\n",
        "      B, T, C = logits.shape\n",
        "      logits = logits.view(B*T, C)\n",
        "      targets = targets.view(B*T)\n",
        "      loss = torch.nn.functional.cross_entropy(logits, targets)\n",
        "\n",
        "    return logits, loss\n",
        "\n",
        "  def generate(self, idx, max_new_tokens):\n",
        "\n",
        "    for _ in range(max_new_tokens):\n",
        "\n",
        "      idx_sec = idx[:, -block_size:]\n",
        "      logits, loss = self(idx_sec)\n",
        "      # logits --> [32, 65] --> [B*T, C]\n",
        "      logits = logits[:, -1, :]\n",
        "      # logits --> [4, 65] --> [B, C]\n",
        "      probs = F.softmax(logits, dim=-1)\n",
        "      # probs --> [B, C]\n",
        "      idx_next = torch.multinomial(probs, num_samples=1)\n",
        "      # idx_next --> [B, 1]\n",
        "      idx = torch.cat((idx, idx_next), dim=1)\n",
        "      # idx --> [B, T] --> [B, T+1]\n",
        "    return idx\n",
        "\n"
      ],
      "metadata": {
        "id": "i8N8hunF_F1P"
      },
      "execution_count": 76,
      "outputs": []
    },
    {
      "cell_type": "code",
      "source": [
        "model = BigramLanguageModel()\n",
        "m = model.to(device)\n",
        "# print the number of parameters in the model\n",
        "print(sum(p.numel() for p in m.parameters())/1e6, 'M parameters')\n",
        "\n",
        "# create a PyTorch optimizer\n",
        "optimizer = torch.optim.AdamW(model.parameters(), lr=learning_rate)\n",
        "\n",
        "for iter in range(max_iters):\n",
        "\n",
        "    # every once in a while evaluate the loss on train and val sets\n",
        "    if iter % eval_interval == 0 or iter == max_iters - 1:\n",
        "        losses = estimate_loss()\n",
        "        print(f\"step {iter}: train loss {losses['train']:.4f}, val loss {losses['val']:.4f}\")\n",
        "\n",
        "    # sample a batch of data\n",
        "    xb, yb = get_batch('train')\n",
        "\n",
        "    # evaluate the loss\n",
        "    logits, loss = model(xb, yb)\n",
        "    optimizer.zero_grad(set_to_none=True)\n",
        "    loss.backward()\n",
        "    optimizer.step()\n",
        "\n",
        "\n"
      ],
      "metadata": {
        "id": "YvxsYFVrH7eU",
        "colab": {
          "base_uri": "https://localhost:8080/"
        },
        "outputId": "710ba693-34f7-49b1-864f-45fd4d0fbd8b"
      },
      "execution_count": 77,
      "outputs": [
        {
          "output_type": "stream",
          "name": "stdout",
          "text": [
            "2.931265 M parameters\n",
            "step 0: train loss 4.2931, val loss 4.2938\n",
            "step 100: train loss 2.4981, val loss 2.4981\n",
            "step 200: train loss 2.3586, val loss 2.3663\n",
            "step 300: train loss 2.2283, val loss 2.2496\n",
            "step 400: train loss 2.1265, val loss 2.1640\n",
            "step 500: train loss 2.0542, val loss 2.1039\n",
            "step 600: train loss 1.9882, val loss 2.0638\n",
            "step 700: train loss 1.9254, val loss 2.0220\n",
            "step 800: train loss 1.8873, val loss 1.9867\n",
            "step 900: train loss 1.8419, val loss 1.9512\n",
            "step 1000: train loss 1.8069, val loss 1.9452\n",
            "step 1100: train loss 1.7664, val loss 1.8992\n",
            "step 1200: train loss 1.7447, val loss 1.8967\n",
            "step 1300: train loss 1.7264, val loss 1.8791\n",
            "step 1400: train loss 1.7030, val loss 1.8597\n",
            "step 1500: train loss 1.6760, val loss 1.8304\n",
            "step 1600: train loss 1.6727, val loss 1.8313\n",
            "step 1700: train loss 1.6565, val loss 1.8246\n",
            "step 1800: train loss 1.6397, val loss 1.8040\n",
            "step 1900: train loss 1.6316, val loss 1.8001\n",
            "step 2000: train loss 1.6117, val loss 1.7884\n",
            "step 2100: train loss 1.6064, val loss 1.7706\n",
            "step 2200: train loss 1.5931, val loss 1.7601\n",
            "step 2300: train loss 1.5894, val loss 1.7528\n",
            "step 2400: train loss 1.5665, val loss 1.7443\n",
            "step 2500: train loss 1.5653, val loss 1.7496\n",
            "step 2600: train loss 1.5571, val loss 1.7284\n",
            "step 2700: train loss 1.5455, val loss 1.7111\n",
            "step 2800: train loss 1.5341, val loss 1.7226\n",
            "step 2900: train loss 1.5415, val loss 1.7146\n",
            "step 3000: train loss 1.5295, val loss 1.7136\n",
            "step 3100: train loss 1.5213, val loss 1.7080\n",
            "step 3200: train loss 1.5156, val loss 1.6967\n",
            "step 3300: train loss 1.5095, val loss 1.6935\n",
            "step 3400: train loss 1.5043, val loss 1.7022\n",
            "step 3500: train loss 1.4986, val loss 1.6865\n",
            "step 3600: train loss 1.4887, val loss 1.6899\n",
            "step 3700: train loss 1.4880, val loss 1.6670\n",
            "step 3800: train loss 1.4873, val loss 1.6712\n",
            "step 3900: train loss 1.4840, val loss 1.6673\n",
            "step 4000: train loss 1.4703, val loss 1.6637\n",
            "step 4100: train loss 1.4706, val loss 1.6664\n",
            "step 4200: train loss 1.4682, val loss 1.6737\n",
            "step 4300: train loss 1.4643, val loss 1.6451\n",
            "step 4400: train loss 1.4680, val loss 1.6484\n",
            "step 4500: train loss 1.4523, val loss 1.6420\n",
            "step 4600: train loss 1.4531, val loss 1.6414\n",
            "step 4700: train loss 1.4507, val loss 1.6330\n",
            "step 4800: train loss 1.4463, val loss 1.6385\n",
            "step 4900: train loss 1.4437, val loss 1.6368\n",
            "step 4999: train loss 1.4456, val loss 1.6284\n"
          ]
        }
      ]
    },
    {
      "cell_type": "code",
      "source": [
        "# generate from the model\n",
        "context = torch.zeros((1, 1), dtype=torch.long, device=device)\n",
        "print(decode(m.generate(idx=context, max_new_tokens=1000)[0].tolist()))"
      ],
      "metadata": {
        "colab": {
          "base_uri": "https://localhost:8080/"
        },
        "id": "AlA4nD4Lkb70",
        "outputId": "cb64bb51-09d5-4400-f446-f6beeb6879ce"
      },
      "execution_count": 78,
      "outputs": [
        {
          "output_type": "stream",
          "name": "stdout",
          "text": [
            "\n",
            "He hope's and penla thereft,\n",
            "Hark watch'd as to inswer me the ported\n",
            "Tongue, seem while's infand their eyes Keeps exroard\n",
            "What fight swife, he's a trifield; or oaten to tawe,\n",
            "What this speeir, benoughtly it of a plaison!\n",
            "Unry Angelofory you like a fiarm\n",
            "Than offate as with fortage, my graveford,\n",
            "Or in your sparking yone, count which\n",
            "how is Hy coun, indertnous gentle fair.\n",
            "\n",
            "LUCE:\n",
            "The dust thattern saidly, your will widow's iso righter.\n",
            "\n",
            "LADY CAPULIS:\n",
            "He's gother!\n",
            "Why wayce, canno not-morroase house; and my and and were as Lord\n",
            "Bettake give with him.' They tell you need of at ioon,\n",
            "May that I deserver you, princhid evere that do punil\n",
            "In prince Edward againful. Yet shall my court.\n",
            "\n",
            "PRINCE:\n",
            "Ay, thou well wants and trump, my lifes if young. Why, resolus.\n",
            "\n",
            "DUKE VINCENTIO:\n",
            "For it. Ye', you dare it be poor mistry;\n",
            "And save I diegdom othad.\n",
            "\n",
            "DUKE VINCENTIO:\n",
            "That all you snoursel: our eyes; wast, deservingdom\n",
            "Call'd with him. Yesry; do welce: if this be\n",
            "Comist mameger have surmersedgethed\n",
            "By Pa\n"
          ]
        }
      ]
    },
    {
      "cell_type": "code",
      "source": [],
      "metadata": {
        "id": "rzNmeDrt-5qy"
      },
      "execution_count": null,
      "outputs": []
    }
  ]
}