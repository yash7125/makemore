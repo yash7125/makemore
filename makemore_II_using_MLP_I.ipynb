{
  "nbformat": 4,
  "nbformat_minor": 0,
  "metadata": {
    "colab": {
      "provenance": [],
      "authorship_tag": "ABX9TyNSwoYVUeZ+ZiN2TzvvHPXV",
      "include_colab_link": true
    },
    "kernelspec": {
      "name": "python3",
      "display_name": "Python 3"
    },
    "language_info": {
      "name": "python"
    }
  },
  "cells": [
    {
      "cell_type": "markdown",
      "metadata": {
        "id": "view-in-github",
        "colab_type": "text"
      },
      "source": [
        "<a href=\"https://colab.research.google.com/github/yash7125/makemore/blob/main/makemore_II_using_MLP_I.ipynb\" target=\"_parent\"><img src=\"https://colab.research.google.com/assets/colab-badge.svg\" alt=\"Open In Colab\"/></a>"
      ]
    },
    {
      "cell_type": "code",
      "source": [
        "names = open('names.txt', 'r').read().splitlines()\n",
        "print(names[:10])"
      ],
      "metadata": {
        "id": "cRhiOE0wR6bn",
        "colab": {
          "base_uri": "https://localhost:8080/"
        },
        "outputId": "b90493d6-f3f8-48b3-f562-9998acdb95f1"
      },
      "execution_count": 125,
      "outputs": [
        {
          "output_type": "stream",
          "name": "stdout",
          "text": [
            "['emma', 'olivia', 'ava', 'isabella', 'sophia', 'charlotte', 'mia', 'amelia', 'harper', 'evelyn']\n"
          ]
        }
      ]
    },
    {
      "cell_type": "code",
      "source": [
        "chs = sorted((list(set(''.join(names)))))\n",
        "print(chs)\n",
        "\n",
        "stoi = {s:i+1 for i,s in enumerate(chs)}\n",
        "stoi['.'] = 0\n",
        "print(stoi)\n",
        "itos = {i:s for s,i in stoi.items()}\n",
        "print(itos)\n",
        "\n"
      ],
      "metadata": {
        "colab": {
          "base_uri": "https://localhost:8080/"
        },
        "id": "vYenrcdembaK",
        "outputId": "9a83de65-8824-4b21-8127-735c2afc3c83"
      },
      "execution_count": 126,
      "outputs": [
        {
          "output_type": "stream",
          "name": "stdout",
          "text": [
            "['a', 'b', 'c', 'd', 'e', 'f', 'g', 'h', 'i', 'j', 'k', 'l', 'm', 'n', 'o', 'p', 'q', 'r', 's', 't', 'u', 'v', 'w', 'x', 'y', 'z']\n",
            "{'a': 1, 'b': 2, 'c': 3, 'd': 4, 'e': 5, 'f': 6, 'g': 7, 'h': 8, 'i': 9, 'j': 10, 'k': 11, 'l': 12, 'm': 13, 'n': 14, 'o': 15, 'p': 16, 'q': 17, 'r': 18, 's': 19, 't': 20, 'u': 21, 'v': 22, 'w': 23, 'x': 24, 'y': 25, 'z': 26, '.': 0}\n",
            "{1: 'a', 2: 'b', 3: 'c', 4: 'd', 5: 'e', 6: 'f', 7: 'g', 8: 'h', 9: 'i', 10: 'j', 11: 'k', 12: 'l', 13: 'm', 14: 'n', 15: 'o', 16: 'p', 17: 'q', 18: 'r', 19: 's', 20: 't', 21: 'u', 22: 'v', 23: 'w', 24: 'x', 25: 'y', 26: 'z', 0: '.'}\n"
          ]
        }
      ]
    },
    {
      "cell_type": "code",
      "source": [
        "# import torch\n",
        "\n",
        "# # creating our dataset\n",
        "# block_size = 3\n",
        "# X = []\n",
        "# Y = []\n",
        "\n",
        "# for name in names:\n",
        "\n",
        "#   context = [0] * block_size\n",
        "#   # print(name)\n",
        "\n",
        "#   for ch in name + '.':\n",
        "#     idx = stoi[ch]\n",
        "#     X.append(context)\n",
        "#     Y.append(idx)\n",
        "#     # print(''.join(itos[i] for i in context) + '-->' + itos[idx])\n",
        "#     context = context[1:] + [idx]\n",
        "#     # print(context)\n",
        "\n",
        "#   # print('\\n')\n",
        "\n",
        "# X = torch.tensor(X)\n",
        "# Y = torch.tensor(Y)\n"
      ],
      "metadata": {
        "id": "bA5xPl6WFwfD"
      },
      "execution_count": 24,
      "outputs": []
    },
    {
      "cell_type": "code",
      "source": [
        "# C = torch.randn((27, 2))"
      ],
      "metadata": {
        "id": "MWBiqZRlUI1_"
      },
      "execution_count": 27,
      "outputs": []
    },
    {
      "cell_type": "code",
      "source": [
        "# emb = C[X]\n",
        "# emb.shape"
      ],
      "metadata": {
        "id": "ONyi8OMxFB2v"
      },
      "execution_count": 28,
      "outputs": []
    },
    {
      "cell_type": "code",
      "source": [
        "# # W1 = torch.randn((6, 100))\n",
        "# # b1 = torch.randn(100)\n",
        "#     # (32, 6) * (6, 100) --> (32 * 100)\n",
        "# h = torch.tanh(emb.view(emb.shape[0], 6) @ W1 + b1)\n",
        "# h.shape\n"
      ],
      "metadata": {
        "id": "QkHLMAQSGiAh"
      },
      "execution_count": 29,
      "outputs": []
    },
    {
      "cell_type": "code",
      "source": [
        "# W2 = torch.randn((100, 27))\n",
        "# b2 = torch.randn(27)\n",
        "\n",
        "# logits = (h @ W2) + b2\n",
        "# counts = logits.exp()\n",
        "\n",
        "# probs = counts / counts.sum(1, keepdims=True)\n",
        "# probs[0].sum()\n"
      ],
      "metadata": {
        "id": "ngP6m7iiO5JR"
      },
      "execution_count": 30,
      "outputs": []
    },
    {
      "cell_type": "code",
      "source": [
        "# loss = -probs[torch.arange(32), Y].log().mean()\n",
        "# loss"
      ],
      "metadata": {
        "id": "5IfkX-zpWJ6H"
      },
      "execution_count": 31,
      "outputs": []
    },
    {
      "cell_type": "code",
      "source": [
        "# making thing much more simpler and easy to read\n",
        "import torch\n",
        "import torch.nn.functional as F\n",
        "import matplotlib.pyplot as plt\n",
        "\n",
        "import random\n",
        "\n",
        "g = torch.Generator().manual_seed(2147483647)\n",
        "\n",
        "C = torch.randn((27, 10), generator=g)\n",
        "W1 = torch.randn((30, 200), generator=g)\n",
        "b1 = torch.randn(200, generator=g)\n",
        "W2 = torch.randn((200, 27), generator=g)\n",
        "b2 = torch.randn(27, generator=g)\n",
        "\n",
        "parameters = [C, W1, b1, W2, b2]\n"
      ],
      "metadata": {
        "id": "4Z1JIpTwXwYW"
      },
      "execution_count": 127,
      "outputs": []
    },
    {
      "cell_type": "code",
      "source": [
        "# creating train, val, test set\n",
        "\n",
        "def build_dataset(names):\n",
        "\n",
        "  X = []\n",
        "  Y = []\n",
        "\n",
        "  block_size = 3\n",
        "\n",
        "  for name in names:\n",
        "\n",
        "    context = [0] * block_size\n",
        "    # print(name)\n",
        "    for ch in name + '.':\n",
        "      idx = stoi[ch]\n",
        "      X.append(context)\n",
        "      Y.append(idx)\n",
        "      # print(''.join(itos[i] for i in context) + '-->' + itos[idx])\n",
        "      context = context[1:] + [idx]\n",
        "      # print(context)\n",
        "\n",
        "    # print('\\n')\n",
        "\n",
        "  X = torch.tensor(X)\n",
        "  Y = torch.tensor(Y)\n",
        "  print(X.shape, \" \", Y.shape)\n",
        "  return X, Y\n",
        "\n",
        "n1 = int(0.8 * len(names))\n",
        "n2 = int(0.9 * len(names))\n",
        "\n",
        "random.seed(42)\n",
        "random.shuffle(names)\n",
        "\n",
        "X_train, Y_train = build_dataset(names[:n1])\n",
        "val_X, val_Y =  build_dataset(names[n1 : n2])\n",
        "test_X, test_Y = build_dataset(names[n2:])"
      ],
      "metadata": {
        "colab": {
          "base_uri": "https://localhost:8080/"
        },
        "id": "FfxV_BnMNUXr",
        "outputId": "21c4ca9e-b2c9-4e15-8f7e-f8cba0f632cc"
      },
      "execution_count": 128,
      "outputs": [
        {
          "output_type": "stream",
          "name": "stdout",
          "text": [
            "torch.Size([182625, 3])   torch.Size([182625])\n",
            "torch.Size([22655, 3])   torch.Size([22655])\n",
            "torch.Size([22866, 3])   torch.Size([22866])\n"
          ]
        }
      ]
    },
    {
      "cell_type": "code",
      "source": [
        "sum(p.nelement() for p in parameters)\n"
      ],
      "metadata": {
        "colab": {
          "base_uri": "https://localhost:8080/"
        },
        "id": "D3qXWkOx437i",
        "outputId": "70600ce8-fc12-4cf5-bb04-07af017628fd"
      },
      "execution_count": 129,
      "outputs": [
        {
          "output_type": "execute_result",
          "data": {
            "text/plain": [
              "11897"
            ]
          },
          "metadata": {},
          "execution_count": 129
        }
      ]
    },
    {
      "cell_type": "code",
      "source": [
        "iterations = []\n",
        "losses = []\n",
        "lri = []\n",
        "\n",
        "for p in parameters:\n",
        "  p.requires_grad = True\n"
      ],
      "metadata": {
        "id": "mwkMVjQx5XIq"
      },
      "execution_count": 130,
      "outputs": []
    },
    {
      "cell_type": "code",
      "source": [
        "\n",
        "  for i in range(200000):\n",
        "    # mini-batches\n",
        "    idx = torch.randint(0, X_train.shape[0], (32,))\n",
        "\n",
        "    # implementing forward pass\n",
        "    # (32, 3, 2)\n",
        "    emb = C[X_train[idx]]\n",
        "    # (32, 6) * (6, 100) --> (32, 100) first hidden layer\n",
        "    h = torch.tanh(emb.view(-1, 30) @ W1 + b1)\n",
        "    # second hidden layer\n",
        "    logits = h @ W2 + b2\n",
        "    # counts = logits.exp()\n",
        "    # probs = counts / counts.sum(1, keepdims=True)\n",
        "    loss = F.cross_entropy(logits, Y_train[idx])\n",
        "\n",
        "    # print(i + 1, \" \", loss.item())\n",
        "\n",
        "    iterations.append(i + 1)\n",
        "    losses.append(loss.log10().item())\n",
        "\n",
        "    # back propagation\n",
        "    for p in parameters:\n",
        "      p.grad = None\n",
        "    loss.backward()\n",
        "\n",
        "    # lr = lrs[i]\n",
        "    # lri.append(lre[i])\n",
        "\n",
        "    # print(i + 1, \" \", loss.item(), \" \", \"lr-->\", lr.item())\n",
        "\n",
        "    lr = 0.1 if i < 100000 else 0.01\n",
        "    # update the parameters\n",
        "    for p in (parameters):\n",
        "      p.data += -lr * p.grad\n",
        "\n",
        "    if i % 10000 == 0:\n",
        "      print(i, \" \", loss.item())\n",
        "\n"
      ],
      "metadata": {
        "id": "Z4i6x7-Ycp-z",
        "colab": {
          "base_uri": "https://localhost:8080/"
        },
        "outputId": "5cacfe04-4ae2-4cac-97a1-f91955fc2167"
      },
      "execution_count": 137,
      "outputs": [
        {
          "output_type": "stream",
          "name": "stdout",
          "text": [
            "0   1.974066138267517\n",
            "10000   1.9950450658798218\n",
            "20000   2.257275104522705\n",
            "30000   2.2920565605163574\n",
            "40000   2.0372071266174316\n",
            "50000   2.311569929122925\n",
            "60000   1.699216604232788\n",
            "70000   2.032095193862915\n",
            "80000   2.1077003479003906\n",
            "90000   2.269979953765869\n",
            "100000   2.6340060234069824\n",
            "110000   2.0722177028656006\n",
            "120000   2.016511917114258\n",
            "130000   1.8462077379226685\n",
            "140000   1.878061294555664\n",
            "150000   2.027092218399048\n",
            "160000   2.1043074131011963\n",
            "170000   1.8046486377716064\n",
            "180000   1.9252671003341675\n",
            "190000   2.196657180786133\n"
          ]
        }
      ]
    },
    {
      "cell_type": "code",
      "source": [
        "plt.plot(iterations[1:], losses[1:])\n",
        "# # mini batches are needed\n",
        "# idx = torch.randint(0, X.shape[0], (32,))\n",
        "# idx\n",
        "# emb = C[X]\n",
        "# emb.shape\n",
        "# loss"
      ],
      "metadata": {
        "colab": {
          "base_uri": "https://localhost:8080/",
          "height": 448
        },
        "id": "A_6utZdUgSHG",
        "outputId": "4233cdb4-8f0a-4928-dda1-261494941e21"
      },
      "execution_count": 138,
      "outputs": [
        {
          "output_type": "execute_result",
          "data": {
            "text/plain": [
              "[<matplotlib.lines.Line2D at 0x79a79e61d490>]"
            ]
          },
          "metadata": {},
          "execution_count": 138
        },
        {
          "output_type": "display_data",
          "data": {
            "text/plain": [
              "<Figure size 640x480 with 1 Axes>"
            ],
            "image/png": "[encoded data removed]"
          },
          "metadata": {}
        }
      ]
    },
    {
      "cell_type": "code",
      "source": [
        "# train set\n",
        "emb = C[X_train]\n",
        "h = torch.tanh(emb.view(-1, 30) @ W1 + b1)\n",
        "logits = h @ W2 + b2\n",
        "loss = F.cross_entropy(logits, Y_train)\n",
        "loss"
      ],
      "metadata": {
        "colab": {
          "base_uri": "https://localhost:8080/"
        },
        "id": "Bh2cqyWBqJcE",
        "outputId": "71a9c6ae-9d46-4485-a157-eb86bdec88d0"
      },
      "execution_count": 139,
      "outputs": [
        {
          "output_type": "execute_result",
          "data": {
            "text/plain": [
              "tensor(2.0789, grad_fn=<NllLossBackward0>)"
            ]
          },
          "metadata": {},
          "execution_count": 139
        }
      ]
    },
    {
      "cell_type": "code",
      "source": [
        "emb = C[val_X]\n",
        "h = torch.tanh(emb.view(-1, 30) @ W1 + b1)\n",
        "logits = h @ W2 + b2\n",
        "loss = F.cross_entropy(logits, val_Y)\n",
        "loss"
      ],
      "metadata": {
        "id": "p0QedCC3qUjF",
        "colab": {
          "base_uri": "https://localhost:8080/"
        },
        "outputId": "ba211674-4b03-4cb6-d8e6-06ecc7e63940"
      },
      "execution_count": 140,
      "outputs": [
        {
          "output_type": "execute_result",
          "data": {
            "text/plain": [
              "tensor(2.1425, grad_fn=<NllLossBackward0>)"
            ]
          },
          "metadata": {},
          "execution_count": 140
        }
      ]
    },
    {
      "cell_type": "code",
      "source": [
        "emb = C[test_X]\n",
        "h = torch.tanh(emb.view(-1, 30) @ W1 + b1)\n",
        "logits = h @ W2 + b2\n",
        "loss = F.cross_entropy(logits, test_Y)\n",
        "loss"
      ],
      "metadata": {
        "colab": {
          "base_uri": "https://localhost:8080/"
        },
        "id": "S90awSdKLMrX",
        "outputId": "4c59a46c-29b1-4c4d-9836-88a45fb06c90"
      },
      "execution_count": 141,
      "outputs": [
        {
          "output_type": "execute_result",
          "data": {
            "text/plain": [
              "tensor(2.1394, grad_fn=<NllLossBackward0>)"
            ]
          },
          "metadata": {},
          "execution_count": 141
        }
      ]
    },
    {
      "cell_type": "code",
      "source": [
        "g = torch.Generator().manual_seed(2147483647)\n",
        "\n",
        "block_size = 3\n",
        "\n",
        "for i in range(20):\n",
        "\n",
        "  context = [0] * block_size\n",
        "  out = []\n",
        "  while True:\n",
        "    emb = C[torch.tensor([context])]\n",
        "    h = torch.tanh(emb.view(1, -1) @ W1 + b1)\n",
        "    logits = h @ W2 + b2\n",
        "    probs = F.softmax(logits, dim=1)\n",
        "    idx = torch.multinomial(probs, num_samples=1, replacement=True, generator=g).item()\n",
        "    context = context[1:] + [idx]\n",
        "    if idx == 0:\n",
        "      break\n",
        "    out.append(idx)\n",
        "\n",
        "  print(''.join(itos[j] for j in out))\n",
        "\n",
        "\n"
      ],
      "metadata": {
        "id": "1q1EWEBjPbyi",
        "colab": {
          "base_uri": "https://localhost:8080/"
        },
        "outputId": "db9690b8-2961-4137-ff79-1d6a6aaf013b"
      },
      "execution_count": 142,
      "outputs": [
        {
          "output_type": "stream",
          "name": "stdout",
          "text": [
            "junide\n",
            "jakarie\n",
            "presayven\n",
            "makshir\n",
            "tolette\n",
            "ger\n",
            "kalinaa\n",
            "yaniah\n",
            "hassie\n",
            "ailezire\n",
            "dseoniely\n",
            "arteziaraulestion\n",
            "maj\n",
            "phynsleigh\n",
            "ani\n",
            "core\n",
            "yarion\n",
            "kaelandreedemiilmaynin\n",
            "anaashraviah\n",
            "mozahdan\n"
          ]
        }
      ]
    },
    {
      "cell_type": "code",
      "source": [],
      "metadata": {
        "id": "XUbQToTY_fw_"
      },
      "execution_count": null,
      "outputs": []
    }
  ]
}