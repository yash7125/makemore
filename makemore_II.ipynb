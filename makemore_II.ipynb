{
  "nbformat": 4,
  "nbformat_minor": 0,
  "metadata": {
    "colab": {
      "provenance": [],
      "authorship_tag": "ABX9TyMbCSK6YRkim1/uJYZvKia8",
      "include_colab_link": true
    },
    "kernelspec": {
      "name": "python3",
      "display_name": "Python 3"
    },
    "language_info": {
      "name": "python"
    }
  },
  "cells": [
    {
      "cell_type": "markdown",
      "metadata": {
        "id": "view-in-github",
        "colab_type": "text"
      },
      "source": [
        "<a href=\"https://colab.research.google.com/github/yash7125/makemore/blob/main/makemore_II.ipynb\" target=\"_parent\"><img src=\"https://colab.research.google.com/assets/colab-badge.svg\" alt=\"Open In Colab\"/></a>"
      ]
    },
    {
      "cell_type": "code",
      "source": [
        "names = open('names.txt', 'r').read().splitlines()\n",
        "print(names[:10])"
      ],
      "metadata": {
        "id": "cRhiOE0wR6bn",
        "colab": {
          "base_uri": "https://localhost:8080/"
        },
        "outputId": "26e4dd44-aa11-4f5f-e307-89ff1cacead0"
      },
      "execution_count": null,
      "outputs": [
        {
          "output_type": "stream",
          "name": "stdout",
          "text": [
            "['emma', 'olivia', 'ava', 'isabella', 'sophia', 'charlotte', 'mia', 'amelia', 'harper', 'evelyn']\n"
          ]
        }
      ]
    },
    {
      "cell_type": "code",
      "source": [
        "chs = sorted((list(set(''.join(names)))))\n",
        "print(chs)\n",
        "\n",
        "stoi = {s:i+1 for i,s in enumerate(chs)}\n",
        "stoi['.'] = 0\n",
        "print(stoi)\n",
        "itos = {i:s for s,i in stoi.items()}\n",
        "print(itos)\n",
        "\n"
      ],
      "metadata": {
        "colab": {
          "base_uri": "https://localhost:8080/"
        },
        "id": "vYenrcdembaK",
        "outputId": "d283ed96-cf4a-4825-c145-b55bebb9829a"
      },
      "execution_count": null,
      "outputs": [
        {
          "output_type": "stream",
          "name": "stdout",
          "text": [
            "['a', 'b', 'c', 'd', 'e', 'f', 'g', 'h', 'i', 'j', 'k', 'l', 'm', 'n', 'o', 'p', 'q', 'r', 's', 't', 'u', 'v', 'w', 'x', 'y', 'z']\n",
            "{'a': 1, 'b': 2, 'c': 3, 'd': 4, 'e': 5, 'f': 6, 'g': 7, 'h': 8, 'i': 9, 'j': 10, 'k': 11, 'l': 12, 'm': 13, 'n': 14, 'o': 15, 'p': 16, 'q': 17, 'r': 18, 's': 19, 't': 20, 'u': 21, 'v': 22, 'w': 23, 'x': 24, 'y': 25, 'z': 26, '.': 0}\n",
            "{1: 'a', 2: 'b', 3: 'c', 4: 'd', 5: 'e', 6: 'f', 7: 'g', 8: 'h', 9: 'i', 10: 'j', 11: 'k', 12: 'l', 13: 'm', 14: 'n', 15: 'o', 16: 'p', 17: 'q', 18: 'r', 19: 's', 20: 't', 21: 'u', 22: 'v', 23: 'w', 24: 'x', 25: 'y', 26: 'z', 0: '.'}\n"
          ]
        }
      ]
    },
    {
      "cell_type": "code",
      "source": [
        "import torch\n",
        "\n",
        "# creating our dataset\n",
        "block_size = 3\n",
        "X = []\n",
        "Y = []\n",
        "\n",
        "for name in names:\n",
        "\n",
        "  context = [0] * block_size\n",
        "  # print(name)\n",
        "\n",
        "  for ch in name + '.':\n",
        "    idx = stoi[ch]\n",
        "    X.append(context)\n",
        "    Y.append(idx)\n",
        "    # print(''.join(itos[i] for i in context) + '-->' + itos[idx])\n",
        "    context = context[1:] + [idx]\n",
        "    # print(context)\n",
        "\n",
        "  # print('\\n')\n",
        "\n",
        "X = torch.tensor(X)\n",
        "Y = torch.tensor(Y)\n"
      ],
      "metadata": {
        "id": "bA5xPl6WFwfD"
      },
      "execution_count": null,
      "outputs": []
    },
    {
      "cell_type": "code",
      "source": [
        "X.shape"
      ],
      "metadata": {
        "colab": {
          "base_uri": "https://localhost:8080/"
        },
        "id": "oBh15CbzPtUV",
        "outputId": "373d9dbc-5df5-4730-9700-295c9ba480b8"
      },
      "execution_count": null,
      "outputs": [
        {
          "output_type": "execute_result",
          "data": {
            "text/plain": [
              "torch.Size([228146, 3])"
            ]
          },
          "metadata": {},
          "execution_count": 92
        }
      ]
    },
    {
      "cell_type": "code",
      "source": [
        "Y.shape"
      ],
      "metadata": {
        "colab": {
          "base_uri": "https://localhost:8080/"
        },
        "id": "qtRWC-JIUH2f",
        "outputId": "f84a13b6-b6eb-4d3e-fc72-e3ff9c68cea1"
      },
      "execution_count": null,
      "outputs": [
        {
          "output_type": "execute_result",
          "data": {
            "text/plain": [
              "torch.Size([228146])"
            ]
          },
          "metadata": {},
          "execution_count": 93
        }
      ]
    },
    {
      "cell_type": "code",
      "source": [
        "# C = torch.randn((27, 2))"
      ],
      "metadata": {
        "id": "MWBiqZRlUI1_"
      },
      "execution_count": null,
      "outputs": []
    },
    {
      "cell_type": "code",
      "source": [
        "# emb = C[X]\n",
        "# emb.shape"
      ],
      "metadata": {
        "id": "ONyi8OMxFB2v"
      },
      "execution_count": null,
      "outputs": []
    },
    {
      "cell_type": "code",
      "source": [
        "# # W1 = torch.randn((6, 100))\n",
        "# # b1 = torch.randn(100)\n",
        "#     # (32, 6) * (6, 100) --> (32 * 100)\n",
        "# h = torch.tanh(emb.view(emb.shape[0], 6) @ W1 + b1)\n",
        "# h.shape\n"
      ],
      "metadata": {
        "id": "QkHLMAQSGiAh"
      },
      "execution_count": null,
      "outputs": []
    },
    {
      "cell_type": "code",
      "source": [
        "# W2 = torch.randn((100, 27))\n",
        "# b2 = torch.randn(27)\n",
        "\n",
        "# logits = (h @ W2) + b2\n",
        "# counts = logits.exp()\n",
        "\n",
        "# probs = counts / counts.sum(1, keepdims=True)\n",
        "# probs[0].sum()\n"
      ],
      "metadata": {
        "id": "ngP6m7iiO5JR"
      },
      "execution_count": null,
      "outputs": []
    },
    {
      "cell_type": "code",
      "source": [
        "# loss = -probs[torch.arange(32), Y].log().mean()\n",
        "# loss"
      ],
      "metadata": {
        "id": "5IfkX-zpWJ6H"
      },
      "execution_count": null,
      "outputs": []
    },
    {
      "cell_type": "code",
      "source": [
        "# making thing much more simpler and easy to read\n",
        "import torch.nn.functional as F\n",
        "import matplotlib.pyplot as plt\n",
        "\n",
        "import random\n",
        "\n",
        "g = torch.Generator().manual_seed(2147483647)\n",
        "C = torch.randn((27, 10), generator=g)\n",
        "# print(C[0])\n",
        "W1 = torch.randn((30, 300), generator=g)\n",
        "b1 = torch.randn(300, generator=g)\n",
        "W2 = torch.randn((300, 27), generator=g)\n",
        "b2 = torch.randn(27, generator=g)\n",
        "\n",
        "parameters = [C, W1, b1, W2, b2]\n"
      ],
      "metadata": {
        "id": "4Z1JIpTwXwYW"
      },
      "execution_count": null,
      "outputs": []
    },
    {
      "cell_type": "code",
      "source": [
        "# creating train, val, test set\n",
        "\n",
        "def build_dataset(names):\n",
        "\n",
        "  X = []\n",
        "  Y = []\n",
        "\n",
        "  block_size = 3\n",
        "\n",
        "  for name in names:\n",
        "\n",
        "    context = [0] * block_size\n",
        "    # print(name)\n",
        "    for ch in name + '.':\n",
        "      idx = stoi[ch]\n",
        "      X.append(context)\n",
        "      Y.append(idx)\n",
        "      # print(''.join(itos[i] for i in context) + '-->' + itos[idx])\n",
        "      context = context[1:] + [idx]\n",
        "      # print(context)\n",
        "\n",
        "    # print('\\n')\n",
        "\n",
        "  X = torch.tensor(X)\n",
        "  Y = torch.tensor(Y)\n",
        "  print(X.shape, \" \", Y.shape)\n",
        "  return X, Y\n",
        "\n",
        "n1 = int(0.8 * len(names))\n",
        "n2 = int(0.9 * len(names))\n",
        "\n",
        "random.seed(42)\n",
        "random.shuffle(names)\n",
        "\n",
        "X_train, Y_train = build_dataset(names[:n1])\n",
        "val_X, val_Y =  build_dataset(names[n1 : n2])\n",
        "test_X, test_Y = build_dataset(names[n2:])"
      ],
      "metadata": {
        "colab": {
          "base_uri": "https://localhost:8080/"
        },
        "id": "FfxV_BnMNUXr",
        "outputId": "f0f7bb25-61db-4c94-c67f-0b71ab78e652"
      },
      "execution_count": null,
      "outputs": [
        {
          "output_type": "stream",
          "name": "stdout",
          "text": [
            "torch.Size([182455, 3])   torch.Size([182455])\n",
            "torch.Size([22929, 3])   torch.Size([22929])\n",
            "torch.Size([22762, 3])   torch.Size([22762])\n"
          ]
        }
      ]
    },
    {
      "cell_type": "code",
      "source": [
        "sum(p.nelement() for p in parameters)\n"
      ],
      "metadata": {
        "colab": {
          "base_uri": "https://localhost:8080/"
        },
        "id": "D3qXWkOx437i",
        "outputId": "dea6bc13-7849-4772-cf06-0a69534bdee2"
      },
      "execution_count": null,
      "outputs": [
        {
          "output_type": "execute_result",
          "data": {
            "text/plain": [
              "17697"
            ]
          },
          "metadata": {},
          "execution_count": 436
        }
      ]
    },
    {
      "cell_type": "code",
      "source": [
        "iterations = []\n",
        "losses = []\n",
        "lri = []\n",
        "\n",
        "for p in parameters:\n",
        "  p.requires_grad = True\n"
      ],
      "metadata": {
        "id": "mwkMVjQx5XIq"
      },
      "execution_count": null,
      "outputs": []
    },
    {
      "cell_type": "code",
      "source": [
        "for i in range(20000):\n",
        "  # mini-batches\n",
        "  idx = torch.randint(0, X_train.shape[0], (32,))\n",
        "\n",
        "  # implementing forward pass\n",
        "  # (32, 3, 2)\n",
        "  emb = C[X[idx]]\n",
        "  # (32, 6) * (6, 100) --> (32, 100) first hidden layer\n",
        "  h = torch.tanh(emb.view(-1, 30) @ W1 + b1)\n",
        "  # second hidden layer\n",
        "  logits = h @ W2 + b2\n",
        "  # counts = logits.exp()\n",
        "  # probs = counts / counts.sum(1, keepdims=True)\n",
        "  loss = F.cross_entropy(logits, Y_train[idx])\n",
        "\n",
        "  # print(i + 1, \" \", loss.item())\n",
        "\n",
        "  iterations.append(i + 1)\n",
        "  losses.append(loss.log10().item())\n",
        "\n",
        "  # back propagation\n",
        "  for p in parameters:\n",
        "    p.grad = None\n",
        "  loss.backward()\n",
        "\n",
        "  # lr = lrs[i]\n",
        "  # lri.append(lre[i])\n",
        "\n",
        "  # print(i + 1, \" \", loss.item(), \" \", \"lr-->\", lr.item())\n",
        "\n",
        "  lr = 0.1 if i < 12000 else 0.01\n",
        "  # update the parameters\n",
        "  for p in (parameters):\n",
        "    p.data += -lr * p.grad\n",
        "\n"
      ],
      "metadata": {
        "id": "Z4i6x7-Ycp-z"
      },
      "execution_count": null,
      "outputs": []
    },
    {
      "cell_type": "code",
      "source": [
        "plt.plot(iterations, losses)\n",
        "# # mini batches are needed\n",
        "# idx = torch.randint(0, X.shape[0], (32,))\n",
        "# idx\n",
        "# emb = C[X]\n",
        "# emb.shape\n",
        "# loss"
      ],
      "metadata": {
        "colab": {
          "base_uri": "https://localhost:8080/",
          "height": 447
        },
        "id": "A_6utZdUgSHG",
        "outputId": "51d18ffa-452e-40b0-de4f-c5a732da122a"
      },
      "execution_count": null,
      "outputs": [
        {
          "output_type": "execute_result",
          "data": {
            "text/plain": [
              "[<matplotlib.lines.Line2D at 0x7aeb3f816350>]"
            ]
          },
          "metadata": {},
          "execution_count": 453
        },
        {
          "output_type": "display_data",
          "data": {
            "text/plain": [
              "<Figure size 640x480 with 1 Axes>"
            ],
            "image/png": "[encoded data removed]"
          },
          "metadata": {}
        }
      ]
    },
    {
      "cell_type": "code",
      "source": [
        "# train set\n",
        "emb = C[X_train]\n",
        "h = torch.tanh(emb.view(-1, 30) @ W1 + b1)\n",
        "logits = h @ W2 + b2\n",
        "loss = F.cross_entropy(logits, Y_train)\n",
        "loss"
      ],
      "metadata": {
        "colab": {
          "base_uri": "https://localhost:8080/"
        },
        "id": "Bh2cqyWBqJcE",
        "outputId": "7849f1b2-9111-4cf8-985e-e1df95da37c2"
      },
      "execution_count": null,
      "outputs": [
        {
          "output_type": "execute_result",
          "data": {
            "text/plain": [
              "tensor(2.8918, grad_fn=<NllLossBackward0>)"
            ]
          },
          "metadata": {},
          "execution_count": 454
        }
      ]
    },
    {
      "cell_type": "code",
      "source": [
        "emb = C[val_X]\n",
        "h = torch.tanh(emb.view(-1, 30) @ W1 + b1)\n",
        "logits = h @ W2 + b2\n",
        "loss = F.cross_entropy(logits, val_Y)\n",
        "loss"
      ],
      "metadata": {
        "id": "p0QedCC3qUjF",
        "colab": {
          "base_uri": "https://localhost:8080/"
        },
        "outputId": "c2c638c3-ee04-4392-a237-a717fea7d27b"
      },
      "execution_count": null,
      "outputs": [
        {
          "output_type": "execute_result",
          "data": {
            "text/plain": [
              "tensor(2.8836, grad_fn=<NllLossBackward0>)"
            ]
          },
          "metadata": {},
          "execution_count": 455
        }
      ]
    },
    {
      "cell_type": "code",
      "source": [
        "emb = C[test_X]\n",
        "h = torch.tanh(emb.view(-1, 30) @ W1 + b1)\n",
        "logits = h @ W2 + b2\n",
        "loss = F.cross_entropy(logits, test_Y)\n",
        "loss"
      ],
      "metadata": {
        "colab": {
          "base_uri": "https://localhost:8080/"
        },
        "id": "S90awSdKLMrX",
        "outputId": "3e0f1f88-875f-4715-e7a8-d415f3c53cc9"
      },
      "execution_count": null,
      "outputs": [
        {
          "output_type": "execute_result",
          "data": {
            "text/plain": [
              "tensor(2.8877, grad_fn=<NllLossBackward0>)"
            ]
          },
          "metadata": {},
          "execution_count": 456
        }
      ]
    },
    {
      "cell_type": "code",
      "source": [],
      "metadata": {
        "id": "1q1EWEBjPbyi"
      },
      "execution_count": null,
      "outputs": []
    }
  ]
}